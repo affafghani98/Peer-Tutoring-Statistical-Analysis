{
  "cells": [
    {
      "cell_type": "code",
      "execution_count": null,
      "id": "0ffe30be",
      "metadata": {
        "id": "0ffe30be"
      },
      "outputs": [],
      "source": [
        "import pandas as pd\n",
        "from sklearn.preprocessing import LabelEncoder\n",
        "import matplotlib.pyplot as plt\n",
        "from scipy.stats import pearsonr, spearmanr\n",
        "from statsmodels.stats.proportion import proportions_ztest\n",
        "import seaborn as sns\n",
        "from scipy.stats import chi2_contingency"
      ]
    },
    {
      "cell_type": "code",
      "source": [
        "df = pd.read_csv(\"Data.csv\")"
      ],
      "metadata": {
        "id": "4Gh_Rv09uo6g"
      },
      "id": "4Gh_Rv09uo6g",
      "execution_count": 3,
      "outputs": []
    },
    {
      "cell_type": "code",
      "execution_count": 4,
      "id": "9be6c19c",
      "metadata": {
        "id": "9be6c19c"
      },
      "outputs": [],
      "source": [
        "df[\"E1\"]  = LabelEncoder().fit_transform(df['Question1'])\n",
        "df[\"E2\"]  = LabelEncoder().fit_transform(df['Question2'])\n",
        "df[\"E3\"]  = LabelEncoder().fit_transform(df['Question3'])\n",
        "df['E4']  = LabelEncoder().fit_transform(df['Question4'])\n",
        "df[\"E5\"]  = LabelEncoder().fit_transform(df['Question5'])\n",
        "df[\"E6\"]  = LabelEncoder().fit_transform(df['Question6'])\n",
        "df[\"E7\"]  = LabelEncoder().fit_transform(df['Question7'])\n",
        "df[\"E8\"]  = LabelEncoder().fit_transform(df['Question8'])\n",
        "df[\"E9\"]  = LabelEncoder().fit_transform(df['Question9'])\n",
        "df[\"E10\"] = LabelEncoder().fit_transform(df['Question10'])\n",
        "df[\"E11\"] = LabelEncoder().fit_transform(df['Question11'])\n",
        "df[\"E12\"] = LabelEncoder().fit_transform(df['Question12'])\n",
        "df[\"E13\"] = LabelEncoder().fit_transform(df['Question13'])\n",
        "df[\"E14\"] = LabelEncoder().fit_transform(df['Question14'])\n",
        "df[\"E15\"] = LabelEncoder().fit_transform(df['Question15'])"
      ]
    },
    {
      "cell_type": "code",
      "execution_count": 5,
      "id": "fe3a3156",
      "metadata": {
        "id": "fe3a3156"
      },
      "outputs": [],
      "source": [
        "Question_Dict = {\n",
        "    \"Question1\":\"Do you help your fellow students/classmates with their studies  in a certain subject?\",\n",
        "    \"Question2\":\"Peer tutoring is a practical thing to do to maintain their academic performance\",\n",
        "    \"Question3\":\"Peer tutoring can help both students involved achieve their academic  goals\",\n",
        "    \"Question4\":\"Both the tutor and the student being tutored can develop better communication and interpersonal skills through the tutoring process.\",\n",
        "    \"Question5\":\"Peer tutoring is an opportunity to exchange ideas which can help me to have a deeper understanding with the subject matter\",\n",
        "    \"Question6\":\"How does the duration of peer tutoring sessions corelate to academic improvement?\",\n",
        "    \"Question7\":\"What challenges, if any, have you encountered during peer tutoring sessions, and how could they be addressed?\",\n",
        "    \"Question8\":\"Have you noticed an improvement in your academic performance since engaging in peer tutoring?\",\n",
        "    \"Queation9\":\"What role does student engagement play in the effectiveness of peer tutoring?\",\n",
        "    \"Question10\":\"How does the feedback mechanism work within peer tutoring sessions contribute to continuous improvement in studies?\",\n",
        "    \"Question11\":\"In what way peer tutoring contribute to critical thinking among students?\",\n",
        "    \"Question12\":\"How does the structure of peer tutoring programs, such as one-on-one sessions versus group sessions, influence academic outcomes?\",\n",
        "    \"Question13\":\"Does the tutor-tutee relationship impact learning outcomes?\",\n",
        "    \"Question14\":\"How does the tutor's experience level influence academic improvements?\",\n",
        "    \"Question15\":\"In conclusion, what is the end result of peer tutoring to you?\"\n",
        "}"
      ]
    },
    {
      "cell_type": "code",
      "execution_count": 6,
      "id": "99274310",
      "metadata": {
        "id": "99274310",
        "outputId": "6043bb11-97ff-4d6e-8ae8-93899d98384f",
        "colab": {
          "base_uri": "https://localhost:8080/",
          "height": 342
        }
      },
      "outputs": [
        {
          "output_type": "execute_result",
          "data": {
            "text/plain": [
              "            Timestamp Question1 Question2       Question3          Question4  \\\n",
              "0  11/22/2023 6:56:16       Yes     Agree  Strongly agree  Strongly disagree   \n",
              "1  11/22/2023 7:02:20       Yes     Agree  Strongly agree            Neutral   \n",
              "2  11/22/2023 7:02:36       Yes     Agree           Agree              Agree   \n",
              "3  11/22/2023 7:06:37       Yes     Agree           Agree              Agree   \n",
              "4  11/22/2023 7:51:11       Yes     Agree  Strongly agree  Strongly disagree   \n",
              "\n",
              "        Question5             Question6               Question7  \\\n",
              "0  Strongly Agree  Positive Correlation        Time constraints   \n",
              "1  Strongly Agree  Positive Correlation        Time constraints   \n",
              "2           Agree  Positive Correlation        Time constraints   \n",
              "3           Agree  Positive Correlation  Communication barriers   \n",
              "4  Strongly Agree  Positive Correlation  Communication barriers   \n",
              "\n",
              "            Question8             Question9  ... E6 E7 E8 E9 E10 E11  E12  \\\n",
              "0  Yes, significantly       Critical Factor  ...  2  3  3  0   0   2    2   \n",
              "1  Yes, significantly       Critical Factor  ...  2  3  3  0   0   2    0   \n",
              "2     Yes, moderately       Critical Factor  ...  2  3  2  0   0   2    1   \n",
              "3     Yes, moderately  Moderately important  ...  2  0  2  2   0   0    2   \n",
              "4  Yes, significantly  Moderately important  ...  2  0  3  2   0   2    1   \n",
              "\n",
              "   E13  E14  E15  \n",
              "0    1    2    2  \n",
              "1    1    2    2  \n",
              "2    1    2    2  \n",
              "3    2    2    2  \n",
              "4    1    2    2  \n",
              "\n",
              "[5 rows x 31 columns]"
            ],
            "text/html": [
              "\n",
              "  <div id=\"df-0082a676-0025-40f3-bd98-f2784fc58176\" class=\"colab-df-container\">\n",
              "    <div>\n",
              "<style scoped>\n",
              "    .dataframe tbody tr th:only-of-type {\n",
              "        vertical-align: middle;\n",
              "    }\n",
              "\n",
              "    .dataframe tbody tr th {\n",
              "        vertical-align: top;\n",
              "    }\n",
              "\n",
              "    .dataframe thead th {\n",
              "        text-align: right;\n",
              "    }\n",
              "</style>\n",
              "<table border=\"1\" class=\"dataframe\">\n",
              "  <thead>\n",
              "    <tr style=\"text-align: right;\">\n",
              "      <th></th>\n",
              "      <th>Timestamp</th>\n",
              "      <th>Question1</th>\n",
              "      <th>Question2</th>\n",
              "      <th>Question3</th>\n",
              "      <th>Question4</th>\n",
              "      <th>Question5</th>\n",
              "      <th>Question6</th>\n",
              "      <th>Question7</th>\n",
              "      <th>Question8</th>\n",
              "      <th>Question9</th>\n",
              "      <th>...</th>\n",
              "      <th>E6</th>\n",
              "      <th>E7</th>\n",
              "      <th>E8</th>\n",
              "      <th>E9</th>\n",
              "      <th>E10</th>\n",
              "      <th>E11</th>\n",
              "      <th>E12</th>\n",
              "      <th>E13</th>\n",
              "      <th>E14</th>\n",
              "      <th>E15</th>\n",
              "    </tr>\n",
              "  </thead>\n",
              "  <tbody>\n",
              "    <tr>\n",
              "      <th>0</th>\n",
              "      <td>11/22/2023 6:56:16</td>\n",
              "      <td>Yes</td>\n",
              "      <td>Agree</td>\n",
              "      <td>Strongly agree</td>\n",
              "      <td>Strongly disagree</td>\n",
              "      <td>Strongly Agree</td>\n",
              "      <td>Positive Correlation</td>\n",
              "      <td>Time constraints</td>\n",
              "      <td>Yes, significantly</td>\n",
              "      <td>Critical Factor</td>\n",
              "      <td>...</td>\n",
              "      <td>2</td>\n",
              "      <td>3</td>\n",
              "      <td>3</td>\n",
              "      <td>0</td>\n",
              "      <td>0</td>\n",
              "      <td>2</td>\n",
              "      <td>2</td>\n",
              "      <td>1</td>\n",
              "      <td>2</td>\n",
              "      <td>2</td>\n",
              "    </tr>\n",
              "    <tr>\n",
              "      <th>1</th>\n",
              "      <td>11/22/2023 7:02:20</td>\n",
              "      <td>Yes</td>\n",
              "      <td>Agree</td>\n",
              "      <td>Strongly agree</td>\n",
              "      <td>Neutral</td>\n",
              "      <td>Strongly Agree</td>\n",
              "      <td>Positive Correlation</td>\n",
              "      <td>Time constraints</td>\n",
              "      <td>Yes, significantly</td>\n",
              "      <td>Critical Factor</td>\n",
              "      <td>...</td>\n",
              "      <td>2</td>\n",
              "      <td>3</td>\n",
              "      <td>3</td>\n",
              "      <td>0</td>\n",
              "      <td>0</td>\n",
              "      <td>2</td>\n",
              "      <td>0</td>\n",
              "      <td>1</td>\n",
              "      <td>2</td>\n",
              "      <td>2</td>\n",
              "    </tr>\n",
              "    <tr>\n",
              "      <th>2</th>\n",
              "      <td>11/22/2023 7:02:36</td>\n",
              "      <td>Yes</td>\n",
              "      <td>Agree</td>\n",
              "      <td>Agree</td>\n",
              "      <td>Agree</td>\n",
              "      <td>Agree</td>\n",
              "      <td>Positive Correlation</td>\n",
              "      <td>Time constraints</td>\n",
              "      <td>Yes, moderately</td>\n",
              "      <td>Critical Factor</td>\n",
              "      <td>...</td>\n",
              "      <td>2</td>\n",
              "      <td>3</td>\n",
              "      <td>2</td>\n",
              "      <td>0</td>\n",
              "      <td>0</td>\n",
              "      <td>2</td>\n",
              "      <td>1</td>\n",
              "      <td>1</td>\n",
              "      <td>2</td>\n",
              "      <td>2</td>\n",
              "    </tr>\n",
              "    <tr>\n",
              "      <th>3</th>\n",
              "      <td>11/22/2023 7:06:37</td>\n",
              "      <td>Yes</td>\n",
              "      <td>Agree</td>\n",
              "      <td>Agree</td>\n",
              "      <td>Agree</td>\n",
              "      <td>Agree</td>\n",
              "      <td>Positive Correlation</td>\n",
              "      <td>Communication barriers</td>\n",
              "      <td>Yes, moderately</td>\n",
              "      <td>Moderately important</td>\n",
              "      <td>...</td>\n",
              "      <td>2</td>\n",
              "      <td>0</td>\n",
              "      <td>2</td>\n",
              "      <td>2</td>\n",
              "      <td>0</td>\n",
              "      <td>0</td>\n",
              "      <td>2</td>\n",
              "      <td>2</td>\n",
              "      <td>2</td>\n",
              "      <td>2</td>\n",
              "    </tr>\n",
              "    <tr>\n",
              "      <th>4</th>\n",
              "      <td>11/22/2023 7:51:11</td>\n",
              "      <td>Yes</td>\n",
              "      <td>Agree</td>\n",
              "      <td>Strongly agree</td>\n",
              "      <td>Strongly disagree</td>\n",
              "      <td>Strongly Agree</td>\n",
              "      <td>Positive Correlation</td>\n",
              "      <td>Communication barriers</td>\n",
              "      <td>Yes, significantly</td>\n",
              "      <td>Moderately important</td>\n",
              "      <td>...</td>\n",
              "      <td>2</td>\n",
              "      <td>0</td>\n",
              "      <td>3</td>\n",
              "      <td>2</td>\n",
              "      <td>0</td>\n",
              "      <td>2</td>\n",
              "      <td>1</td>\n",
              "      <td>1</td>\n",
              "      <td>2</td>\n",
              "      <td>2</td>\n",
              "    </tr>\n",
              "  </tbody>\n",
              "</table>\n",
              "<p>5 rows × 31 columns</p>\n",
              "</div>\n",
              "    <div class=\"colab-df-buttons\">\n",
              "\n",
              "  <div class=\"colab-df-container\">\n",
              "    <button class=\"colab-df-convert\" onclick=\"convertToInteractive('df-0082a676-0025-40f3-bd98-f2784fc58176')\"\n",
              "            title=\"Convert this dataframe to an interactive table.\"\n",
              "            style=\"display:none;\">\n",
              "\n",
              "  <svg xmlns=\"http://www.w3.org/2000/svg\" height=\"24px\" viewBox=\"0 -960 960 960\">\n",
              "    <path d=\"M120-120v-720h720v720H120Zm60-500h600v-160H180v160Zm220 220h160v-160H400v160Zm0 220h160v-160H400v160ZM180-400h160v-160H180v160Zm440 0h160v-160H620v160ZM180-180h160v-160H180v160Zm440 0h160v-160H620v160Z\"/>\n",
              "  </svg>\n",
              "    </button>\n",
              "\n",
              "  <style>\n",
              "    .colab-df-container {\n",
              "      display:flex;\n",
              "      gap: 12px;\n",
              "    }\n",
              "\n",
              "    .colab-df-convert {\n",
              "      background-color: #E8F0FE;\n",
              "      border: none;\n",
              "      border-radius: 50%;\n",
              "      cursor: pointer;\n",
              "      display: none;\n",
              "      fill: #1967D2;\n",
              "      height: 32px;\n",
              "      padding: 0 0 0 0;\n",
              "      width: 32px;\n",
              "    }\n",
              "\n",
              "    .colab-df-convert:hover {\n",
              "      background-color: #E2EBFA;\n",
              "      box-shadow: 0px 1px 2px rgba(60, 64, 67, 0.3), 0px 1px 3px 1px rgba(60, 64, 67, 0.15);\n",
              "      fill: #174EA6;\n",
              "    }\n",
              "\n",
              "    .colab-df-buttons div {\n",
              "      margin-bottom: 4px;\n",
              "    }\n",
              "\n",
              "    [theme=dark] .colab-df-convert {\n",
              "      background-color: #3B4455;\n",
              "      fill: #D2E3FC;\n",
              "    }\n",
              "\n",
              "    [theme=dark] .colab-df-convert:hover {\n",
              "      background-color: #434B5C;\n",
              "      box-shadow: 0px 1px 3px 1px rgba(0, 0, 0, 0.15);\n",
              "      filter: drop-shadow(0px 1px 2px rgba(0, 0, 0, 0.3));\n",
              "      fill: #FFFFFF;\n",
              "    }\n",
              "  </style>\n",
              "\n",
              "    <script>\n",
              "      const buttonEl =\n",
              "        document.querySelector('#df-0082a676-0025-40f3-bd98-f2784fc58176 button.colab-df-convert');\n",
              "      buttonEl.style.display =\n",
              "        google.colab.kernel.accessAllowed ? 'block' : 'none';\n",
              "\n",
              "      async function convertToInteractive(key) {\n",
              "        const element = document.querySelector('#df-0082a676-0025-40f3-bd98-f2784fc58176');\n",
              "        const dataTable =\n",
              "          await google.colab.kernel.invokeFunction('convertToInteractive',\n",
              "                                                    [key], {});\n",
              "        if (!dataTable) return;\n",
              "\n",
              "        const docLinkHtml = 'Like what you see? Visit the ' +\n",
              "          '<a target=\"_blank\" href=https://colab.research.google.com/notebooks/data_table.ipynb>data table notebook</a>'\n",
              "          + ' to learn more about interactive tables.';\n",
              "        element.innerHTML = '';\n",
              "        dataTable['output_type'] = 'display_data';\n",
              "        await google.colab.output.renderOutput(dataTable, element);\n",
              "        const docLink = document.createElement('div');\n",
              "        docLink.innerHTML = docLinkHtml;\n",
              "        element.appendChild(docLink);\n",
              "      }\n",
              "    </script>\n",
              "  </div>\n",
              "\n",
              "\n",
              "<div id=\"df-f8f6494c-f2a4-482e-ac3a-429475128c38\">\n",
              "  <button class=\"colab-df-quickchart\" onclick=\"quickchart('df-f8f6494c-f2a4-482e-ac3a-429475128c38')\"\n",
              "            title=\"Suggest charts\"\n",
              "            style=\"display:none;\">\n",
              "\n",
              "<svg xmlns=\"http://www.w3.org/2000/svg\" height=\"24px\"viewBox=\"0 0 24 24\"\n",
              "     width=\"24px\">\n",
              "    <g>\n",
              "        <path d=\"M19 3H5c-1.1 0-2 .9-2 2v14c0 1.1.9 2 2 2h14c1.1 0 2-.9 2-2V5c0-1.1-.9-2-2-2zM9 17H7v-7h2v7zm4 0h-2V7h2v10zm4 0h-2v-4h2v4z\"/>\n",
              "    </g>\n",
              "</svg>\n",
              "  </button>\n",
              "\n",
              "<style>\n",
              "  .colab-df-quickchart {\n",
              "      --bg-color: #E8F0FE;\n",
              "      --fill-color: #1967D2;\n",
              "      --hover-bg-color: #E2EBFA;\n",
              "      --hover-fill-color: #174EA6;\n",
              "      --disabled-fill-color: #AAA;\n",
              "      --disabled-bg-color: #DDD;\n",
              "  }\n",
              "\n",
              "  [theme=dark] .colab-df-quickchart {\n",
              "      --bg-color: #3B4455;\n",
              "      --fill-color: #D2E3FC;\n",
              "      --hover-bg-color: #434B5C;\n",
              "      --hover-fill-color: #FFFFFF;\n",
              "      --disabled-bg-color: #3B4455;\n",
              "      --disabled-fill-color: #666;\n",
              "  }\n",
              "\n",
              "  .colab-df-quickchart {\n",
              "    background-color: var(--bg-color);\n",
              "    border: none;\n",
              "    border-radius: 50%;\n",
              "    cursor: pointer;\n",
              "    display: none;\n",
              "    fill: var(--fill-color);\n",
              "    height: 32px;\n",
              "    padding: 0;\n",
              "    width: 32px;\n",
              "  }\n",
              "\n",
              "  .colab-df-quickchart:hover {\n",
              "    background-color: var(--hover-bg-color);\n",
              "    box-shadow: 0 1px 2px rgba(60, 64, 67, 0.3), 0 1px 3px 1px rgba(60, 64, 67, 0.15);\n",
              "    fill: var(--button-hover-fill-color);\n",
              "  }\n",
              "\n",
              "  .colab-df-quickchart-complete:disabled,\n",
              "  .colab-df-quickchart-complete:disabled:hover {\n",
              "    background-color: var(--disabled-bg-color);\n",
              "    fill: var(--disabled-fill-color);\n",
              "    box-shadow: none;\n",
              "  }\n",
              "\n",
              "  .colab-df-spinner {\n",
              "    border: 2px solid var(--fill-color);\n",
              "    border-color: transparent;\n",
              "    border-bottom-color: var(--fill-color);\n",
              "    animation:\n",
              "      spin 1s steps(1) infinite;\n",
              "  }\n",
              "\n",
              "  @keyframes spin {\n",
              "    0% {\n",
              "      border-color: transparent;\n",
              "      border-bottom-color: var(--fill-color);\n",
              "      border-left-color: var(--fill-color);\n",
              "    }\n",
              "    20% {\n",
              "      border-color: transparent;\n",
              "      border-left-color: var(--fill-color);\n",
              "      border-top-color: var(--fill-color);\n",
              "    }\n",
              "    30% {\n",
              "      border-color: transparent;\n",
              "      border-left-color: var(--fill-color);\n",
              "      border-top-color: var(--fill-color);\n",
              "      border-right-color: var(--fill-color);\n",
              "    }\n",
              "    40% {\n",
              "      border-color: transparent;\n",
              "      border-right-color: var(--fill-color);\n",
              "      border-top-color: var(--fill-color);\n",
              "    }\n",
              "    60% {\n",
              "      border-color: transparent;\n",
              "      border-right-color: var(--fill-color);\n",
              "    }\n",
              "    80% {\n",
              "      border-color: transparent;\n",
              "      border-right-color: var(--fill-color);\n",
              "      border-bottom-color: var(--fill-color);\n",
              "    }\n",
              "    90% {\n",
              "      border-color: transparent;\n",
              "      border-bottom-color: var(--fill-color);\n",
              "    }\n",
              "  }\n",
              "</style>\n",
              "\n",
              "  <script>\n",
              "    async function quickchart(key) {\n",
              "      const quickchartButtonEl =\n",
              "        document.querySelector('#' + key + ' button');\n",
              "      quickchartButtonEl.disabled = true;  // To prevent multiple clicks.\n",
              "      quickchartButtonEl.classList.add('colab-df-spinner');\n",
              "      try {\n",
              "        const charts = await google.colab.kernel.invokeFunction(\n",
              "            'suggestCharts', [key], {});\n",
              "      } catch (error) {\n",
              "        console.error('Error during call to suggestCharts:', error);\n",
              "      }\n",
              "      quickchartButtonEl.classList.remove('colab-df-spinner');\n",
              "      quickchartButtonEl.classList.add('colab-df-quickchart-complete');\n",
              "    }\n",
              "    (() => {\n",
              "      let quickchartButtonEl =\n",
              "        document.querySelector('#df-f8f6494c-f2a4-482e-ac3a-429475128c38 button');\n",
              "      quickchartButtonEl.style.display =\n",
              "        google.colab.kernel.accessAllowed ? 'block' : 'none';\n",
              "    })();\n",
              "  </script>\n",
              "</div>\n",
              "\n",
              "    </div>\n",
              "  </div>\n"
            ],
            "application/vnd.google.colaboratory.intrinsic+json": {
              "type": "dataframe",
              "variable_name": "df"
            }
          },
          "metadata": {},
          "execution_count": 6
        }
      ],
      "source": [
        "df.head()"
      ]
    },
    {
      "cell_type": "code",
      "execution_count": 7,
      "id": "b465130f",
      "metadata": {
        "id": "b465130f",
        "outputId": "f7c57bb2-9612-4e9b-f065-e08fcb4d71a1",
        "colab": {
          "base_uri": "https://localhost:8080/"
        }
      },
      "outputs": [
        {
          "output_type": "stream",
          "name": "stdout",
          "text": [
            "Question1\n",
            "Yes    98.031496\n",
            "No      1.968504\n",
            "Name: proportion, dtype: float64\n"
          ]
        }
      ],
      "source": [
        "question1_counts = df['Question1'].value_counts(normalize=True) * 100\n",
        "print(question1_counts)\n"
      ]
    },
    {
      "cell_type": "code",
      "execution_count": 8,
      "id": "d9905627",
      "metadata": {
        "id": "d9905627",
        "outputId": "39a6889c-7b1a-48e7-af0a-053861104c55",
        "colab": {
          "base_uri": "https://localhost:8080/"
        }
      },
      "outputs": [
        {
          "output_type": "stream",
          "name": "stdout",
          "text": [
            "Question2\n",
            "Agree               80.708661\n",
            "Moderately Agree    17.322835\n",
            "Disagree             1.968504\n",
            "Name: proportion, dtype: float64\n"
          ]
        }
      ],
      "source": [
        "question2_counts = df['Question2'].value_counts(normalize=True) * 100\n",
        "print(question2_counts)\n"
      ]
    },
    {
      "cell_type": "code",
      "execution_count": 9,
      "id": "9c3e380d",
      "metadata": {
        "id": "9c3e380d",
        "outputId": "c0be23a4-3ba0-4134-c0ff-44febcb7ef90",
        "colab": {
          "base_uri": "https://localhost:8080/"
        }
      },
      "outputs": [
        {
          "output_type": "stream",
          "name": "stdout",
          "text": [
            "Question3\n",
            "Strongly agree    52.362205\n",
            "Agree             40.551181\n",
            "Neutral            5.905512\n",
            "Disagree           1.181102\n",
            "Name: proportion, dtype: float64\n"
          ]
        }
      ],
      "source": [
        "question3_counts = df['Question3'].value_counts(normalize=True) * 100\n",
        "print(question3_counts)\n"
      ]
    },
    {
      "cell_type": "code",
      "execution_count": 10,
      "id": "025b85ab",
      "metadata": {
        "id": "025b85ab",
        "outputId": "b5c439cf-5bf0-41b1-c6bf-5e2bff093877",
        "colab": {
          "base_uri": "https://localhost:8080/"
        }
      },
      "outputs": [
        {
          "output_type": "stream",
          "name": "stdout",
          "text": [
            "Question4\n",
            "Agree                41.035857\n",
            "Strongly agree       31.474104\n",
            "Strongly disagree    17.928287\n",
            "Neutral               6.772908\n",
            "Disagree              2.788845\n",
            "Name: proportion, dtype: float64\n"
          ]
        }
      ],
      "source": [
        "question4_counts = df['Question4'].value_counts(normalize=True) * 100\n",
        "print(question4_counts)\n"
      ]
    },
    {
      "cell_type": "code",
      "execution_count": 11,
      "id": "6afe8d32",
      "metadata": {
        "id": "6afe8d32",
        "outputId": "485a7f62-4daf-4892-93f8-a8c3e86a8743",
        "colab": {
          "base_uri": "https://localhost:8080/"
        }
      },
      "outputs": [
        {
          "output_type": "stream",
          "name": "stdout",
          "text": [
            "Question5\n",
            "Strongly Agree       50.393701\n",
            "Agree                41.338583\n",
            "Neutral               5.118110\n",
            "Strongly Disagree     1.968504\n",
            "Disagree              1.181102\n",
            "Name: proportion, dtype: float64\n"
          ]
        }
      ],
      "source": [
        "question5_counts = df['Question5'].value_counts(normalize=True) * 100\n",
        "print(question5_counts)\n"
      ]
    },
    {
      "cell_type": "code",
      "execution_count": 12,
      "id": "b1f52760",
      "metadata": {
        "id": "b1f52760",
        "outputId": "2697b53c-535f-4206-bd4d-2076ef68ab7a",
        "colab": {
          "base_uri": "https://localhost:8080/"
        }
      },
      "outputs": [
        {
          "output_type": "stream",
          "name": "stdout",
          "text": [
            "Question6\n",
            "Positive Correlation            79.527559\n",
            "No Correlation with duration    18.110236\n",
            "Negative Correlation             2.362205\n",
            "Name: proportion, dtype: float64\n"
          ]
        }
      ],
      "source": [
        "question6_counts = df['Question6'].value_counts(normalize=True) * 100\n",
        "print(question6_counts)"
      ]
    },
    {
      "cell_type": "code",
      "execution_count": 13,
      "id": "482641d7",
      "metadata": {
        "id": "482641d7",
        "outputId": "4ee341fd-9e64-44ff-b170-31fce2e1f54c",
        "colab": {
          "base_uri": "https://localhost:8080/"
        }
      },
      "outputs": [
        {
          "output_type": "stream",
          "name": "stdout",
          "text": [
            "Question7\n",
            "Mismatched learning styles    40.551181\n",
            "Time constraints              29.527559\n",
            "Communication barriers        19.685039\n",
            "Lack of preparation           10.236220\n",
            "Name: proportion, dtype: float64\n"
          ]
        }
      ],
      "source": [
        "question7_counts = df['Question7'].value_counts(normalize=True) * 100\n",
        "print(question7_counts)\n"
      ]
    },
    {
      "cell_type": "code",
      "execution_count": 14,
      "id": "0fdc0703",
      "metadata": {
        "id": "0fdc0703",
        "outputId": "78e1df31-539a-43ba-dbbb-36dc9f06206e",
        "colab": {
          "base_uri": "https://localhost:8080/"
        }
      },
      "outputs": [
        {
          "output_type": "stream",
          "name": "stdout",
          "text": [
            "Question8\n",
            "Yes, moderately           50.000000\n",
            "Yes, significantly        41.732283\n",
            "No noticeable change       7.874016\n",
            "Decline in performance     0.393701\n",
            "Name: proportion, dtype: float64\n"
          ]
        }
      ],
      "source": [
        "question8_counts = df['Question8'].value_counts(normalize=True) * 100\n",
        "print(question8_counts)\n"
      ]
    },
    {
      "cell_type": "code",
      "execution_count": 15,
      "id": "8767593c",
      "metadata": {
        "id": "8767593c",
        "outputId": "f28fbc63-702c-4548-d308-54e436bf8ffe",
        "colab": {
          "base_uri": "https://localhost:8080/"
        }
      },
      "outputs": [
        {
          "output_type": "stream",
          "name": "stdout",
          "text": [
            "Question9\n",
            "Moderately important    51.968504\n",
            "Critical Factor         42.519685\n",
            "Minor Influence          4.724409\n",
            "No significant role      0.787402\n",
            "Name: proportion, dtype: float64\n"
          ]
        }
      ],
      "source": [
        "question9_counts = df['Question9'].value_counts(normalize=True) * 100\n",
        "print(question9_counts)\n"
      ]
    },
    {
      "cell_type": "code",
      "execution_count": 16,
      "id": "aa52bb0a",
      "metadata": {
        "id": "aa52bb0a",
        "outputId": "72975b2e-912d-4d7e-ccd3-c93480e2b130",
        "colab": {
          "base_uri": "https://localhost:8080/"
        }
      },
      "outputs": [
        {
          "output_type": "stream",
          "name": "stdout",
          "text": [
            "Question10\n",
            "Essential for improvement    64.566929\n",
            "Moderately important         32.283465\n",
            "No impact                     3.149606\n",
            "Name: proportion, dtype: float64\n"
          ]
        }
      ],
      "source": [
        "question10_counts = df['Question10'].value_counts(normalize=True) * 100\n",
        "print(question10_counts)\n"
      ]
    },
    {
      "cell_type": "code",
      "execution_count": 17,
      "id": "0a4f6a3a",
      "metadata": {
        "id": "0a4f6a3a",
        "outputId": "75723566-610e-4658-bc6f-9c3bc9a2f443",
        "colab": {
          "base_uri": "https://localhost:8080/"
        }
      },
      "outputs": [
        {
          "output_type": "stream",
          "name": "stdout",
          "text": [
            "Question11\n",
            "Significant Contribution    57.480315\n",
            "Moderate Contribution       38.582677\n",
            "No effect                    3.937008\n",
            "Name: proportion, dtype: float64\n"
          ]
        }
      ],
      "source": [
        "question11_counts = df['Question11'].value_counts(normalize=True) * 100\n",
        "print(question11_counts)\n"
      ]
    },
    {
      "cell_type": "code",
      "execution_count": 18,
      "id": "323d4bbe",
      "metadata": {
        "id": "323d4bbe",
        "outputId": "17b59ece-526e-4139-cd1a-51abbe608657",
        "colab": {
          "base_uri": "https://localhost:8080/"
        }
      },
      "outputs": [
        {
          "output_type": "stream",
          "name": "stdout",
          "text": [
            "Question12\n",
            "One-on-one sessions are more effective                      37.795276\n",
            "Group sessions are more effective                           30.314961\n",
            "Both one-on-one and group sessions are equally effective    29.527559\n",
            "Structure has no significant impact                          2.362205\n",
            "Name: proportion, dtype: float64\n"
          ]
        }
      ],
      "source": [
        "question12_counts = df['Question12'].value_counts(normalize=True) * 100\n",
        "print(question12_counts)\n"
      ]
    },
    {
      "cell_type": "code",
      "execution_count": 19,
      "id": "4df545aa",
      "metadata": {
        "id": "4df545aa",
        "outputId": "adad4a20-b3dd-4387-cf2e-4fcede450530",
        "colab": {
          "base_uri": "https://localhost:8080/"
        }
      },
      "outputs": [
        {
          "output_type": "stream",
          "name": "stdout",
          "text": [
            "Question13\n",
            "Friends tutoring each other          70.472441\n",
            "Doesn't matter                       14.960630\n",
            "Randomly paired tutors and tutees    14.566929\n",
            "Name: proportion, dtype: float64\n"
          ]
        }
      ],
      "source": [
        "question13_counts = df['Question13'].value_counts(normalize=True) * 100\n",
        "print(question13_counts)\n"
      ]
    },
    {
      "cell_type": "code",
      "execution_count": 20,
      "id": "6a84b674",
      "metadata": {
        "id": "6a84b674",
        "outputId": "b88ba04d-3c6f-4480-a1b4-a0d75b4c327e",
        "colab": {
          "base_uri": "https://localhost:8080/"
        }
      },
      "outputs": [
        {
          "output_type": "stream",
          "name": "stdout",
          "text": [
            "Question14\n",
            "Positive Correlation     91.338583\n",
            "No significant impact     6.299213\n",
            "Negative Correlation      2.362205\n",
            "Name: proportion, dtype: float64\n"
          ]
        }
      ],
      "source": [
        "question14_counts = df['Question14'].value_counts(normalize=True) * 100\n",
        "print(question14_counts)\n"
      ]
    },
    {
      "cell_type": "code",
      "execution_count": 21,
      "id": "bdacebf9",
      "metadata": {
        "id": "bdacebf9",
        "outputId": "a2fa2a92-4d3c-43a3-eb43-35130177400c",
        "colab": {
          "base_uri": "https://localhost:8080/"
        }
      },
      "outputs": [
        {
          "output_type": "stream",
          "name": "stdout",
          "text": [
            "Question15\n",
            "It is really accessible and helpful to me                 66.929134\n",
            "It has its pros and cons, offering mixed effectiveness    29.921260\n",
            "It is not effective to me at all                           3.149606\n",
            "Name: proportion, dtype: float64\n"
          ]
        }
      ],
      "source": [
        "question15_counts = df['Question15'].value_counts(normalize=True) * 100\n",
        "print(question15_counts)\n"
      ]
    },
    {
      "cell_type": "code",
      "execution_count": 22,
      "id": "f2806e7d",
      "metadata": {
        "id": "f2806e7d",
        "outputId": "faff0b86-2a04-431b-8949-368738d74b67",
        "colab": {
          "base_uri": "https://localhost:8080/"
        }
      },
      "outputs": [
        {
          "output_type": "stream",
          "name": "stdout",
          "text": [
            "Percentage of 'Yes' responses in Question 15 - Positive: 67.07%\n",
            "Percentage of 'Yes' responses in Question 15 - Neutral: 30.12%\n",
            "Percentage of 'Yes' responses in Question 15 - Negative: 2.81%\n"
          ]
        }
      ],
      "source": [
        "total_yes_students = df[df['Question1'] == 'Yes'].shape[0]\n",
        "percentage_positive = (df[(df['Question1'] == 'Yes') & (df['Question15'] == 'It is really accessible and helpful to me')].shape[0] / total_yes_students) * 100\n",
        "percentage_neutral = (df[(df['Question1'] == 'Yes') & (df['Question15'] == 'It has its pros and cons, offering mixed effectiveness')].shape[0] / total_yes_students) * 100\n",
        "percentage_negative = (df[(df['Question1'] == 'Yes') & (df['Question15'] == 'It is not effective to me at all')].shape[0] / total_yes_students) * 100\n",
        "\n",
        "print(f\"Percentage of 'Yes' responses in Question 15 - Positive: {percentage_positive:.2f}%\")\n",
        "print(f\"Percentage of 'Yes' responses in Question 15 - Neutral: {percentage_neutral:.2f}%\")\n",
        "print(f\"Percentage of 'Yes' responses in Question 15 - Negative: {percentage_negative:.2f}%\")\n"
      ]
    },
    {
      "cell_type": "markdown",
      "source": [
        "Question 1"
      ],
      "metadata": {
        "id": "G43kQC3ExUEc"
      },
      "id": "G43kQC3ExUEc"
    },
    {
      "cell_type": "code",
      "execution_count": null,
      "id": "108a2c49",
      "metadata": {
        "id": "108a2c49",
        "outputId": "270cb9ab-db7e-4612-f9a2-9ab89394fa05"
      },
      "outputs": [
        {
          "name": "stdout",
          "output_type": "stream",
          "text": [
            "Sample Proportion: 98.03%\n",
            "Null Hypothesis Proportion: 50.00%\n",
            "Z-Statistic: 55.1051\n",
            "P-Value: 0.0000\n",
            "Reject the null hypothesis: The proportion of students engaged in peer tutoring is more than 50%.\n"
          ]
        }
      ],
      "source": [
        "#What is the average reported academic improvement among students engaged in peer tutoring?\n",
        "\n",
        "#H0: 50% students are engaged in peer tutoring\n",
        "#H1: more than 50% students are engaged in peer tutoring\n",
        "yes_count = df[df['Question1'] == 'Yes'].shape[0]\n",
        "total_responses = df.shape[0]\n",
        "sample_proportion = yes_count / total_responses\n",
        "\n",
        "#Null hypo\n",
        "null_hypothesis_proportion = 0.5\n",
        "\n",
        "z_stat, p_value = proportions_ztest(yes_count, total_responses, null_hypothesis_proportion, alternative='larger')\n",
        "\n",
        "print(f\"Sample Proportion: {sample_proportion:.2%}\")\n",
        "print(f\"Null Hypothesis Proportion: {null_hypothesis_proportion:.2%}\")\n",
        "print(f\"Z-Statistic: {z_stat:.4f}\")\n",
        "print(f\"P-Value: {p_value:.4f}\")\n",
        "\n",
        "alpha = 0.05\n",
        "if p_value < alpha:\n",
        "    print(\"Reject the null hypothesis: The proportion of students engaged in peer tutoring is more than 50%.\")\n",
        "else:\n",
        "    print(\"Fail to reject the null hypothesis: There is not enough evidence to suggest the proportion is more than 50%.\")\n"
      ]
    },
    {
      "cell_type": "markdown",
      "id": "a07f2197",
      "metadata": {
        "id": "a07f2197"
      },
      "source": [
        "# Question 2"
      ]
    },
    {
      "cell_type": "code",
      "execution_count": null,
      "id": "9d79374a",
      "metadata": {
        "id": "9d79374a",
        "outputId": "f0e36595-6e77-4e8d-c40b-1d3377e00563"
      },
      "outputs": [
        {
          "data": {
            "image/png": "[encoded data removed]",
            "text/plain": [
              "<Figure size 640x480 with 1 Axes>"
            ]
          },
          "metadata": {},
          "output_type": "display_data"
        },
        {
          "name": "stdout",
          "output_type": "stream",
          "text": [
            "Peer tutoring is a practical thing to do to maintain their academic performance\n"
          ]
        }
      ],
      "source": [
        "question2_counts = df['Question2'].value_counts()\n",
        "plt.pie(question2_counts, labels=question2_counts.index, autopct='%1.1f%%', startangle=90, wedgeprops=dict(width=0.3))\n",
        "plt.title('Distribution of Responses for Question 2')\n",
        "plt.show()\n",
        "print(Question_Dict['Question2'])\n"
      ]
    },
    {
      "cell_type": "markdown",
      "id": "72142c01",
      "metadata": {
        "id": "72142c01"
      },
      "source": [
        " Question 6"
      ]
    },
    {
      "cell_type": "code",
      "execution_count": null,
      "id": "47d3ce1e",
      "metadata": {
        "id": "47d3ce1e",
        "outputId": "39455809-c0f0-437e-87b6-f9aaa406030b"
      },
      "outputs": [
        {
          "name": "stdout",
          "output_type": "stream",
          "text": [
            "Pearson Correlation Coefficient: 0.2417\n",
            "P-Value: 0.0001\n",
            "\n",
            "Reject the null hypothesis: There is a significant correlation.\n"
          ]
        }
      ],
      "source": [
        "#Is there any significant correlation between tutoring duration and reported academic improvement\n",
        "#H0:There is no significant correlation\n",
        "#H1:There is a significant correlation\n",
        "pearson_corr, p_value = pearsonr(df['E6'], df['E15'])\n",
        "\n",
        "print(f\"Pearson Correlation Coefficient: {pearson_corr:.4f}\")\n",
        "print(f\"P-Value: {p_value:.4f}\")\n",
        "\n",
        "# Hypothesis testing\n",
        "alpha = 0.05\n",
        "\n",
        "if p_value < alpha:\n",
        "    print(\"\\nReject the null hypothesis: There is a significant correlation.\")\n",
        "else:\n",
        "    print(\"\\nFail to reject the null hypothesis: No significant correlation.\")\n"
      ]
    },
    {
      "cell_type": "code",
      "source": [],
      "metadata": {
        "id": "_V-Sim6nxbj7"
      },
      "id": "_V-Sim6nxbj7",
      "execution_count": null,
      "outputs": []
    },
    {
      "cell_type": "markdown",
      "source": [
        "Question 7\n"
      ],
      "metadata": {
        "id": "9NY2wiC4xccG"
      },
      "id": "9NY2wiC4xccG"
    },
    {
      "cell_type": "code",
      "execution_count": null,
      "id": "ea1482f3",
      "metadata": {
        "id": "ea1482f3",
        "outputId": "4f53f21a-875d-45b7-ebff-526a46b56b34"
      },
      "outputs": [
        {
          "data": {
            "image/png": "[encoded data removed]",
            "text/plain": [
              "<Figure size 640x480 with 1 Axes>"
            ]
          },
          "metadata": {},
          "output_type": "display_data"
        }
      ],
      "source": [
        "question7_counts = df['Question7'].value_counts().sort_index()\n",
        "question7_counts.plot(kind='bar', stacked=True, colormap='viridis')\n",
        "plt.title('Distribution of Responses for Question 7')\n",
        "plt.xlabel('Response Category')\n",
        "plt.ylabel('Count')\n",
        "plt.show()\n"
      ]
    },
    {
      "cell_type": "code",
      "execution_count": null,
      "id": "c59adb05",
      "metadata": {
        "id": "c59adb05",
        "outputId": "bcfaa3c5-5acd-400e-fa8d-84277d82c8a5"
      },
      "outputs": [
        {
          "data": {
            "image/png": "[encoded data removed]",
            "text/plain": [
              "<Figure size 640x480 with 1 Axes>"
            ]
          },
          "metadata": {},
          "output_type": "display_data"
        }
      ],
      "source": [
        "#Overall responses of question 15\n",
        "question1_counts = df['Question15'].value_counts()\n",
        "plt.pie(question1_counts, labels=question1_counts.index, autopct='%1.1f%%', startangle=90, wedgeprops=dict(width=0.3))\n",
        "plt.title('Distribution of Responses for Question 1')\n",
        "plt.show()\n"
      ]
    },
    {
      "cell_type": "code",
      "execution_count": null,
      "id": "e01518d1",
      "metadata": {
        "id": "e01518d1",
        "outputId": "4cc7bc1f-934e-4786-b619-fa9eb862b460"
      },
      "outputs": [
        {
          "data": {
            "image/png": "[encoded data removed]",
            "text/plain": [
              "<Figure size 640x480 with 1 Axes>"
            ]
          },
          "metadata": {},
          "output_type": "display_data"
        }
      ],
      "source": [
        "#Responses of students who are involved in peer tutoring\n",
        "data_yes =df[df['Question1']==\"Yes\"]\n",
        "question1_counts = data_yes['Question15'].value_counts()\n",
        "plt.pie(question1_counts, labels=question1_counts.index, autopct='%1.1f%%', startangle=90, wedgeprops=dict(width=0.3))\n",
        "plt.title('Distribution of Responses for Question 1')\n",
        "plt.show()\n"
      ]
    },
    {
      "cell_type": "code",
      "execution_count": 23,
      "id": "953de143",
      "metadata": {
        "id": "953de143",
        "outputId": "c948174f-4d5d-489d-dbef-552a2feb65cd",
        "colab": {
          "base_uri": "https://localhost:8080/",
          "height": 410
        }
      },
      "outputs": [
        {
          "output_type": "display_data",
          "data": {
            "text/plain": [
              "<Figure size 400x400 with 1 Axes>"
            ],
            "image/png": "[encoded data removed]"
          },
          "metadata": {}
        }
      ],
      "source": [
        "plt.figure(figsize=(4, 4))\n",
        "sns.scatterplot(x='E6', y='E8', data=df)\n",
        "plt.title('Scatter Plot: Duration vs. Academic Improvement')\n",
        "plt.xlabel('Duration')\n",
        "plt.ylabel('Academic Improvement')\n",
        "plt.show()"
      ]
    },
    {
      "cell_type": "markdown",
      "source": [
        "Question 13\n"
      ],
      "metadata": {
        "id": "7ABemQ2dwsUX"
      },
      "id": "7ABemQ2dwsUX"
    },
    {
      "cell_type": "code",
      "execution_count": null,
      "id": "20c97a94",
      "metadata": {
        "id": "20c97a94",
        "outputId": "ff2274c0-a24a-4962-e2fe-1605501a7909"
      },
      "outputs": [
        {
          "name": "stdout",
          "output_type": "stream",
          "text": [
            "Contingency Table:\n",
            "Question15                         It has its pros and cons, offering mixed effectiveness  \\\n",
            "Question13                                                                                  \n",
            "Doesn't matter                                                                    18        \n",
            "Friends tutoring each other                                                       50        \n",
            "Randomly paired tutors and tutees                                                  8        \n",
            "\n",
            "Question15                         It is not effective to me at all  \\\n",
            "Question13                                                            \n",
            "Doesn't matter                                                    2   \n",
            "Friends tutoring each other                                       3   \n",
            "Randomly paired tutors and tutees                                 3   \n",
            "\n",
            "Question15                         It is really accessible and helpful to me  \n",
            "Question13                                                                    \n",
            "Doesn't matter                                                            18  \n",
            "Friends tutoring each other                                              126  \n",
            "Randomly paired tutors and tutees                                         26  \n",
            "\n",
            "Chi-Square Statistic: 12.17031474276111\n",
            "P-Value: 0.016128695140140023\n",
            "Degrees of Freedom: 4\n",
            "Expected Frequencies Table:\n",
            "[[ 11.37007874   1.19685039  25.43307087]\n",
            " [ 53.55905512   5.63779528 119.80314961]\n",
            " [ 11.07086614   1.16535433  24.76377953]]\n",
            "\n",
            "Results is: \n",
            "Reject the null hypothesis: There is a significant association between the tutor-tutee relationship and learning outcomes.\n"
          ]
        }
      ],
      "source": [
        "#H0:The tutor-tutee relationship is independent of learning outcomes.\n",
        "#H1:There is a significant association between the tutor-tutee relationship and learning outcomes.\n",
        "\n",
        "# Create a contingency table\n",
        "contingency_table = pd.crosstab(df['Question13'], df['Question15'])\n",
        "\n",
        "# Display the contingency table\n",
        "print(\"Contingency Table:\")\n",
        "print(contingency_table)\n",
        "\n",
        "# Perform the Chi-Square Test for Independence\n",
        "chi2_stat, p_value, dof, expected = chi2_contingency(contingency_table)\n",
        "\n",
        "print(\"\\nChi-Square Statistic:\", chi2_stat)\n",
        "print(\"P-Value:\", p_value)\n",
        "print(\"Degrees of Freedom:\", dof)\n",
        "print(\"Expected Frequencies Table:\")\n",
        "print(expected)\n",
        "\n",
        "# Hypothesis testing\n",
        "alpha = 0.05\n",
        "print(\"\\nResults is: \")\n",
        "if p_value < alpha:\n",
        "    print(\"Reject the null hypothesis: There is a significant association between the tutor-tutee relationship and learning outcomes.\")\n",
        "else:\n",
        "    print(\"Fail to reject the null hypothesis: The tutor-tutee relationship is independent of learning outcomes.\")"
      ]
    },
    {
      "cell_type": "markdown",
      "source": [
        "Question 9\n"
      ],
      "metadata": {
        "id": "LBChp4hnxn2n"
      },
      "id": "LBChp4hnxn2n"
    },
    {
      "cell_type": "code",
      "execution_count": null,
      "id": "bb7a13a8",
      "metadata": {
        "id": "bb7a13a8",
        "outputId": "02a17fc5-f0d3-4a12-fb48-3793efaf3334"
      },
      "outputs": [
        {
          "name": "stdout",
          "output_type": "stream",
          "text": [
            "Spearman Rank Correlation Coefficient: -0.2388\n",
            "Spearman P-Value: 0.0001\n",
            "Reject the null hypothesis: There is a significant Spearman rank correlation.\n"
          ]
        },
        {
          "name": "stderr",
          "output_type": "stream",
          "text": [
            "C:\\Users\\hp\\anaconda3\\lib\\site-packages\\scipy\\stats\\_stats_py.py:110: RuntimeWarning: The input array could not be properly checked for nan values. nan values will be ignored.\n",
            "  warnings.warn(\"The input array could not be properly \"\n"
          ]
        }
      ],
      "source": [
        "#H0: There is not significant correlation between student engagement and academic improvement.\n",
        "#H1: There is a significant correlation between student engagement and academic improvement.\n",
        "\n",
        "#The commented code is for scatterplot\n",
        "'''plt.figure(figsize=(10, 8))\n",
        "sns.scatterplot(x='Question9', y='Question8', data=df)\n",
        "plt.title('Student Engagement vs. Academic Improvement')\n",
        "plt.xlabel('Student Engagement')\n",
        "plt.ylabel('Academic Improvement')\n",
        "plt.show()'''\n",
        "\n",
        "spearman_corr, spearman_p_value = spearmanr(df['Question9'], df['Question8'])\n",
        "\n",
        "print(f\"Spearman Rank Correlation Coefficient: {spearman_corr:.4f}\")\n",
        "print(f\"Spearman P-Value: {spearman_p_value:.4f}\")\n",
        "\n",
        "# Hypothesis testing\n",
        "alpha = 0.05\n",
        "\n",
        "if spearman_p_value < alpha:\n",
        "    print(\"Reject the null hypothesis: There is a significant Spearman rank correlation.\")\n",
        "else:\n",
        "    print(\"Fail to reject the null hypothesis: No significant Spearman rank correlation.\")\n"
      ]
    },
    {
      "cell_type": "code",
      "execution_count": null,
      "id": "a24944ec",
      "metadata": {
        "id": "a24944ec"
      },
      "outputs": [],
      "source": []
    }
  ],
  "metadata": {
    "kernelspec": {
      "display_name": "Python 3 (ipykernel)",
      "language": "python",
      "name": "python3"
    },
    "language_info": {
      "codemirror_mode": {
        "name": "ipython",
        "version": 3
      },
      "file_extension": ".py",
      "mimetype": "text/x-python",
      "name": "python",
      "nbconvert_exporter": "python",
      "pygments_lexer": "ipython3",
      "version": "3.11.5"
    },
    "colab": {
      "provenance": []
    }
  },
  "nbformat": 4,
  "nbformat_minor": 5
}